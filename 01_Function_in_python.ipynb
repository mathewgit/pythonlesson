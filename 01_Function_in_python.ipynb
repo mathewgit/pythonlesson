{
  "cells": [
    {
      "cell_type": "markdown",
      "metadata": {
        "id": "view-in-github",
        "colab_type": "text"
      },
      "source": [
        "<a href=\"https://colab.research.google.com/github/mathewgit/pythonlesson/blob/main/01_Function_in_python.ipynb\" target=\"_parent\"><img src=\"https://colab.research.google.com/assets/colab-badge.svg\" alt=\"Open In Colab\"/></a>"
      ]
    },
    {
      "cell_type": "markdown",
      "source": [
        "PYTHON FUNCTION"
      ],
      "metadata": {
        "id": "23YffnUbL7xr"
      }
    },
    {
      "cell_type": "code",
      "execution_count": 1,
      "metadata": {
        "colab": {
          "base_uri": "https://localhost:8080/"
        },
        "id": "LCG32WjTKT1C",
        "outputId": "ea7c59b2-9064-430d-8c2e-e9b1a4293db8"
      },
      "outputs": [
        {
          "output_type": "execute_result",
          "data": {
            "text/plain": [
              "30"
            ]
          },
          "metadata": {},
          "execution_count": 1
        }
      ],
      "source": [
        "a = 10\n",
        "b = 20\n",
        "a+b"
      ]
    },
    {
      "cell_type": "markdown",
      "source": [
        "REASUABLITY OF CODE\n",
        "\n",
        "def -> Definition\n",
        "e.g.\n",
        "def test(x,y):\n",
        "     pass"
      ],
      "metadata": {
        "id": "QINx4Fk2Ma7-"
      }
    },
    {
      "cell_type": "code",
      "source": [
        "def test(x,y):\n",
        "     pass"
      ],
      "metadata": {
        "id": "jg8dIj97NMlf"
      },
      "execution_count": 17,
      "outputs": []
    },
    {
      "cell_type": "code",
      "source": [
        "test"
      ],
      "metadata": {
        "colab": {
          "base_uri": "https://localhost:8080/"
        },
        "id": "lj2qm8s9NSAa",
        "outputId": "7ec4cf5a-b619-48d2-e65f-52a384419826"
      },
      "execution_count": 19,
      "outputs": [
        {
          "output_type": "execute_result",
          "data": {
            "text/plain": [
              "<function __main__.test>"
            ]
          },
          "metadata": {},
          "execution_count": 19
        }
      ]
    },
    {
      "cell_type": "markdown",
      "source": [
        "PRINT FUNCTION VS RETURN "
      ],
      "metadata": {
        "id": "aYjjknQsQTPt"
      }
    },
    {
      "cell_type": "code",
      "execution_count": 5,
      "metadata": {
        "id": "OzvtN7hwKT1F"
      },
      "outputs": [],
      "source": [
        "def test(x,y):\n",
        "    print(x+y) # Body of the function  "
      ]
    },
    {
      "cell_type": "code",
      "execution_count": 6,
      "metadata": {
        "colab": {
          "base_uri": "https://localhost:8080/"
        },
        "id": "ojOXF4bYKT1H",
        "outputId": "7930a8e0-17f8-48fe-f1e4-ad71b4f6e01b"
      },
      "outputs": [
        {
          "output_type": "stream",
          "name": "stdout",
          "text": [
            "68\n"
          ]
        },
        {
          "output_type": "execute_result",
          "data": {
            "text/plain": [
              "NoneType"
            ]
          },
          "metadata": {},
          "execution_count": 6
        }
      ],
      "source": [
        "# Print function in the above will return a NoneType, Don't use Print to add , If you want to add use \"Return\"\n",
        "type(test(23,45))"
      ]
    },
    {
      "cell_type": "code",
      "execution_count": 4,
      "metadata": {
        "colab": {
          "base_uri": "https://localhost:8080/"
        },
        "id": "1mP41CjIKT1I",
        "outputId": "50c56a23-a2c1-4905-edf7-49b2d3c83d10"
      },
      "outputs": [
        {
          "output_type": "stream",
          "name": "stdout",
          "text": [
            "90\n"
          ]
        }
      ],
      "source": [
        "b = test(34,56)"
      ]
    },
    {
      "cell_type": "code",
      "execution_count": null,
      "metadata": {
        "id": "FwkF_a2kKT1J",
        "outputId": "56a9bff1-3b0e-4971-924d-352aff3ed245"
      },
      "outputs": [
        {
          "data": {
            "text/plain": [
              "NoneType"
            ]
          },
          "execution_count": 29,
          "metadata": {},
          "output_type": "execute_result"
        }
      ],
      "source": [
        "type(b)"
      ]
    },
    {
      "cell_type": "code",
      "execution_count": null,
      "metadata": {
        "id": "JnJKkcSnKT1K"
      },
      "outputs": [],
      "source": [
        "def test1(b,m):\n",
        "    return b * m "
      ]
    },
    {
      "cell_type": "code",
      "execution_count": null,
      "metadata": {
        "id": "N1l82r_1KT1L"
      },
      "outputs": [],
      "source": [
        "a = test1(5,89)"
      ]
    },
    {
      "cell_type": "code",
      "execution_count": null,
      "metadata": {
        "id": "lMj0qBB4KT1N",
        "outputId": "94d75ccf-eee4-46aa-c031-79fe4d1dc170"
      },
      "outputs": [
        {
          "data": {
            "text/plain": [
              "int"
            ]
          },
          "execution_count": 30,
          "metadata": {},
          "output_type": "execute_result"
        }
      ],
      "source": [
        "type(a)"
      ]
    },
    {
      "cell_type": "markdown",
      "source": [
        "ARGUMENTS"
      ],
      "metadata": {
        "id": "qB31OqHXQbwo"
      }
    },
    {
      "cell_type": "code",
      "execution_count": null,
      "metadata": {
        "id": "3MSk4SawKT1O"
      },
      "outputs": [],
      "source": [
        "def test2(t,n,m):\n",
        "    return t + n\n",
        "    return n+m"
      ]
    },
    {
      "cell_type": "code",
      "execution_count": null,
      "metadata": {
        "id": "zVFFjpE3KT1Q",
        "outputId": "5b67086c-c52e-4e82-cf90-4de938c23e75"
      },
      "outputs": [
        {
          "data": {
            "text/plain": [
              "9"
            ]
          },
          "execution_count": 78,
          "metadata": {},
          "output_type": "execute_result"
        }
      ],
      "source": [
        "test2(4,5,6)"
      ]
    },
    {
      "cell_type": "code",
      "execution_count": null,
      "metadata": {
        "id": "LJlaM8E1KT1S",
        "outputId": "fde42668-c1e3-4cd1-df22-64658f398915"
      },
      "outputs": [
        {
          "data": {
            "text/plain": [
              "5"
            ]
          },
          "execution_count": 33,
          "metadata": {},
          "output_type": "execute_result"
        }
      ],
      "source": [
        "test2(2,3,0)"
      ]
    },
    {
      "cell_type": "markdown",
      "source": [
        "RETURN MULTIPLE VALUES"
      ],
      "metadata": {
        "id": "VWbRyfCzQtL3"
      }
    },
    {
      "cell_type": "code",
      "execution_count": 21,
      "metadata": {
        "id": "Wv8GWcpDKT1T"
      },
      "outputs": [],
      "source": [
        "def test3(n, m ):\n",
        "    return n*10 , m*40 ,m+n"
      ]
    },
    {
      "cell_type": "code",
      "execution_count": 22,
      "metadata": {
        "colab": {
          "base_uri": "https://localhost:8080/"
        },
        "id": "3wkjbYByKT1T",
        "outputId": "3a1bf4b1-64fa-4564-b491-ad8cc68c5288"
      },
      "outputs": [
        {
          "output_type": "execute_result",
          "data": {
            "text/plain": [
              "(20, 280, 9)"
            ]
          },
          "metadata": {},
          "execution_count": 22
        }
      ],
      "source": [
        "test3(2,7)"
      ]
    },
    {
      "cell_type": "markdown",
      "source": [
        "**HOLDING DATA IN VARIABLES**"
      ],
      "metadata": {
        "id": "kytAUcenRE69"
      }
    },
    {
      "cell_type": "code",
      "execution_count": 23,
      "metadata": {
        "id": "14BZZZp2KT1U"
      },
      "outputs": [],
      "source": [
        "c,x,v = test3(2,7)"
      ]
    },
    {
      "cell_type": "code",
      "execution_count": null,
      "metadata": {
        "id": "wmbEWEKGKT1V",
        "outputId": "a0dfefb4-c3c3-48aa-c872-29e89355d264"
      },
      "outputs": [
        {
          "data": {
            "text/plain": [
              "20"
            ]
          },
          "execution_count": 39,
          "metadata": {},
          "output_type": "execute_result"
        }
      ],
      "source": [
        "c"
      ]
    },
    {
      "cell_type": "code",
      "execution_count": null,
      "metadata": {
        "id": "tsanttAsKT1V",
        "outputId": "c2c97123-2f02-46e2-acb8-88b239e75146"
      },
      "outputs": [
        {
          "data": {
            "text/plain": [
              "280"
            ]
          },
          "execution_count": 40,
          "metadata": {},
          "output_type": "execute_result"
        }
      ],
      "source": [
        "x"
      ]
    },
    {
      "cell_type": "code",
      "execution_count": null,
      "metadata": {
        "id": "3Nud0uNWKT1W",
        "outputId": "fa0b8b6e-a214-427e-cb36-b23ba6962210"
      },
      "outputs": [
        {
          "data": {
            "text/plain": [
              "9"
            ]
          },
          "execution_count": 41,
          "metadata": {},
          "output_type": "execute_result"
        }
      ],
      "source": [
        "v"
      ]
    },
    {
      "cell_type": "markdown",
      "source": [
        "**USE OF UNDERSCORE**"
      ],
      "metadata": {
        "id": "38XvtqMxROus"
      }
    },
    {
      "cell_type": "code",
      "execution_count": null,
      "metadata": {
        "id": "OWmo-g0QKT1X"
      },
      "outputs": [],
      "source": [
        "c , x , _ = test3(2,7)"
      ]
    },
    {
      "cell_type": "code",
      "execution_count": null,
      "metadata": {
        "id": "nr1T4YFmKT1X",
        "outputId": "04efa44d-5b51-4a85-aff1-13b6e3300859"
      },
      "outputs": [
        {
          "data": {
            "text/plain": [
              "20"
            ]
          },
          "execution_count": 51,
          "metadata": {},
          "output_type": "execute_result"
        }
      ],
      "source": [
        "c "
      ]
    },
    {
      "cell_type": "code",
      "execution_count": null,
      "metadata": {
        "id": "WoH6G9_SKT1Y",
        "outputId": "fba9cae3-3903-4b94-fa87-a09ec9312f7f"
      },
      "outputs": [
        {
          "data": {
            "text/plain": [
              "280"
            ]
          },
          "execution_count": 52,
          "metadata": {},
          "output_type": "execute_result"
        }
      ],
      "source": [
        "x"
      ]
    },
    {
      "cell_type": "code",
      "execution_count": null,
      "metadata": {
        "id": "nPv4Ln5NKT1Z",
        "outputId": "59a9aad7-472f-4ab4-b4dc-f7589428a06a"
      },
      "outputs": [
        {
          "data": {
            "text/plain": [
              "9"
            ]
          },
          "execution_count": 53,
          "metadata": {},
          "output_type": "execute_result"
        }
      ],
      "source": [
        "_"
      ]
    },
    {
      "cell_type": "code",
      "execution_count": null,
      "metadata": {
        "id": "ciii9ry_KT1Z"
      },
      "outputs": [],
      "source": [
        "_,_ , m= test3(2,7)"
      ]
    },
    {
      "cell_type": "code",
      "execution_count": null,
      "metadata": {
        "id": "Ts6jIdFRKT1a",
        "outputId": "b8c9bcc7-5ee9-41b2-8189-310f1541a121"
      },
      "outputs": [
        {
          "data": {
            "text/plain": [
              "20"
            ]
          },
          "execution_count": 74,
          "metadata": {},
          "output_type": "execute_result"
        }
      ],
      "source": [
        "c"
      ]
    },
    {
      "cell_type": "code",
      "execution_count": null,
      "metadata": {
        "id": "7yd6qkRpKT1a",
        "outputId": "b4cb068f-c8c6-46ee-e6e4-aae73f19c863"
      },
      "outputs": [
        {
          "data": {
            "text/plain": [
              "9"
            ]
          },
          "execution_count": 75,
          "metadata": {},
          "output_type": "execute_result"
        }
      ],
      "source": [
        "m"
      ]
    },
    {
      "cell_type": "code",
      "execution_count": null,
      "metadata": {
        "id": "0xbz02pwKT1b",
        "outputId": "5035887a-7fc9-44e5-b3fd-4956c8099bbc"
      },
      "outputs": [
        {
          "data": {
            "text/plain": [
              "280"
            ]
          },
          "execution_count": 76,
          "metadata": {},
          "output_type": "execute_result"
        }
      ],
      "source": [
        "_"
      ]
    },
    {
      "cell_type": "code",
      "execution_count": null,
      "metadata": {
        "id": "BTJMVvztKT1b"
      },
      "outputs": [],
      "source": [
        "def test():\n",
        "    print(\"this is my first funcation \")"
      ]
    },
    {
      "cell_type": "code",
      "execution_count": null,
      "metadata": {
        "id": "DdzQ0b7iKT1c",
        "outputId": "c0044f67-ae48-4eb3-c78c-e2bce1d51c5a"
      },
      "outputs": [
        {
          "name": "stdout",
          "output_type": "stream",
          "text": [
            "this is my first funcation \n"
          ]
        }
      ],
      "source": [
        "m = test()"
      ]
    },
    {
      "cell_type": "code",
      "execution_count": null,
      "metadata": {
        "id": "waexVj_kKT1c",
        "outputId": "454b9855-c3e5-4cf2-bd09-1d4be6400255"
      },
      "outputs": [
        {
          "ename": "TypeError",
          "evalue": "unsupported operand type(s) for +: 'NoneType' and 'str'",
          "output_type": "error",
          "traceback": [
            "\u001b[1;31m---------------------------------------------------------------------------\u001b[0m",
            "\u001b[1;31mTypeError\u001b[0m                                 Traceback (most recent call last)",
            "\u001b[1;32m<ipython-input-82-0231523aa123>\u001b[0m in \u001b[0;36m<module>\u001b[1;34m\u001b[0m\n\u001b[1;32m----> 1\u001b[1;33m \u001b[0mm\u001b[0m \u001b[1;33m+\u001b[0m \u001b[1;34m\"fsdfsfsd\"\u001b[0m\u001b[1;33m\u001b[0m\u001b[1;33m\u001b[0m\u001b[0m\n\u001b[0m",
            "\u001b[1;31mTypeError\u001b[0m: unsupported operand type(s) for +: 'NoneType' and 'str'"
          ]
        }
      ],
      "source": [
        "m + \"fsdfsfsd\""
      ]
    },
    {
      "cell_type": "code",
      "execution_count": null,
      "metadata": {
        "id": "VzB3hARWKT1c"
      },
      "outputs": [],
      "source": [
        "def test7():\n",
        "    return \"this is my first class \""
      ]
    },
    {
      "cell_type": "code",
      "execution_count": null,
      "metadata": {
        "id": "jindZgoLKT1d"
      },
      "outputs": [],
      "source": [
        "n = test7()"
      ]
    },
    {
      "cell_type": "code",
      "execution_count": null,
      "metadata": {
        "id": "SVEmHdZKKT1d",
        "outputId": "a1d187a0-3bdf-48b5-f556-ad45c0d8c74c"
      },
      "outputs": [
        {
          "data": {
            "text/plain": [
              "'this is my first class fsfsfsd'"
            ]
          },
          "execution_count": 86,
          "metadata": {},
          "output_type": "execute_result"
        }
      ],
      "source": [
        "n + \"fsfsfsd\""
      ]
    },
    {
      "cell_type": "code",
      "execution_count": null,
      "metadata": {
        "id": "4QqeNIX1KT1e"
      },
      "outputs": [],
      "source": [
        "def test8(n):\n",
        "    return n * 2"
      ]
    },
    {
      "cell_type": "code",
      "execution_count": null,
      "metadata": {
        "id": "SVcoRbtkKT1e",
        "outputId": "30ceeddf-4626-4c83-c162-fdc24bf0c589"
      },
      "outputs": [
        {
          "data": {
            "text/plain": [
              "[3, 4, 5, 6, 7, 3, 4, 5, 6, 7]"
            ]
          },
          "execution_count": 88,
          "metadata": {},
          "output_type": "execute_result"
        }
      ],
      "source": [
        "test8([3,4,5,6,7])"
      ]
    },
    {
      "cell_type": "code",
      "execution_count": null,
      "metadata": {
        "id": "jZ0cu07VKT1e",
        "outputId": "b86d9a9d-26dc-41f7-eae6-a63810535271"
      },
      "outputs": [
        {
          "data": {
            "text/plain": [
              "134"
            ]
          },
          "execution_count": 89,
          "metadata": {},
          "output_type": "execute_result"
        }
      ],
      "source": [
        "test8(67)"
      ]
    },
    {
      "cell_type": "code",
      "execution_count": null,
      "metadata": {
        "id": "SQ8u0EYvKT1f"
      },
      "outputs": [],
      "source": [
        "def test9(n):\n",
        "    return n,n*2"
      ]
    },
    {
      "cell_type": "code",
      "execution_count": null,
      "metadata": {
        "id": "Xe-BUazvKT1f"
      },
      "outputs": [],
      "source": [
        "b = test9([4,5,6,6,7])"
      ]
    },
    {
      "cell_type": "code",
      "execution_count": null,
      "metadata": {
        "id": "yTpy7T0OKT1f",
        "outputId": "15ef02f3-e1a4-4d32-f639-c665cb22bb8f"
      },
      "outputs": [
        {
          "data": {
            "text/plain": [
              "([4, 5, 6, 6, 7], [4, 5, 6, 6, 7, 4, 5, 6, 6, 7])"
            ]
          },
          "execution_count": 95,
          "metadata": {},
          "output_type": "execute_result"
        }
      ],
      "source": [
        "b"
      ]
    },
    {
      "cell_type": "code",
      "execution_count": null,
      "metadata": {
        "id": "SXJ6pSSCKT1g",
        "outputId": "f6449e13-f2af-4710-a31c-d6ab2555e307"
      },
      "outputs": [
        {
          "data": {
            "text/plain": [
              "[4, 5, 6, 6, 7]"
            ]
          },
          "execution_count": 96,
          "metadata": {},
          "output_type": "execute_result"
        }
      ],
      "source": [
        "b[0]"
      ]
    },
    {
      "cell_type": "code",
      "execution_count": null,
      "metadata": {
        "id": "vWb3tfmtKT1g",
        "outputId": "d24c4ff8-2a23-4f48-daee-0d380b3a77df"
      },
      "outputs": [
        {
          "data": {
            "text/plain": [
              "[4, 5, 6, 6, 7, 4, 5, 6, 6, 7]"
            ]
          },
          "execution_count": 97,
          "metadata": {},
          "output_type": "execute_result"
        }
      ],
      "source": [
        "b[1]"
      ]
    },
    {
      "cell_type": "code",
      "execution_count": null,
      "metadata": {
        "id": "cU3l4w_yKT1h"
      },
      "outputs": [],
      "source": [
        "def test10(n , m = 90 ):\n",
        "    return n + m "
      ]
    },
    {
      "cell_type": "code",
      "execution_count": null,
      "metadata": {
        "id": "aTrKvSEqKT1h",
        "outputId": "421276d1-5a02-45f5-82cc-2d0dbbd38e41"
      },
      "outputs": [
        {
          "data": {
            "text/plain": [
              "90"
            ]
          },
          "execution_count": 106,
          "metadata": {},
          "output_type": "execute_result"
        }
      ],
      "source": [
        "test10(60, 30)"
      ]
    },
    {
      "cell_type": "code",
      "execution_count": null,
      "metadata": {
        "id": "g-s_jb9YKT1h"
      },
      "outputs": [],
      "source": [
        "print()"
      ]
    },
    {
      "cell_type": "code",
      "execution_count": null,
      "metadata": {
        "id": "VlU8Zj6GKT1h"
      },
      "outputs": [],
      "source": [
        "def boolx(x = True , y = False):\n",
        "    return x + y "
      ]
    },
    {
      "cell_type": "code",
      "execution_count": null,
      "metadata": {
        "id": "RJgkB-H9KT1i",
        "outputId": "ba83a31c-a875-4cce-cd09-e99cbc911880"
      },
      "outputs": [
        {
          "data": {
            "text/plain": [
              "1"
            ]
          },
          "execution_count": 108,
          "metadata": {},
          "output_type": "execute_result"
        }
      ],
      "source": [
        "boolx()"
      ]
    },
    {
      "cell_type": "code",
      "execution_count": null,
      "metadata": {
        "id": "B5j90fD0KT1i",
        "outputId": "56d4e0d8-75c0-44c5-a148-181b9b6be098"
      },
      "outputs": [
        {
          "data": {
            "text/plain": [
              "0"
            ]
          },
          "execution_count": 109,
          "metadata": {},
          "output_type": "execute_result"
        }
      ],
      "source": [
        "boolx(False)"
      ]
    },
    {
      "cell_type": "code",
      "execution_count": null,
      "metadata": {
        "id": "v3AFBEBNKT1j",
        "outputId": "544bc4d6-5fc4-44f8-966b-caed74d1657d"
      },
      "outputs": [
        {
          "data": {
            "text/plain": [
              "8"
            ]
          },
          "execution_count": 111,
          "metadata": {},
          "output_type": "execute_result"
        }
      ],
      "source": [
        "boolx(False , 8)"
      ]
    },
    {
      "cell_type": "code",
      "execution_count": null,
      "metadata": {
        "id": "tnLkYRPKKT1j",
        "outputId": "eb44f512-59b4-4595-e4c3-b1c401ffcd0e"
      },
      "outputs": [
        {
          "data": {
            "text/plain": [
              "1"
            ]
          },
          "execution_count": 112,
          "metadata": {},
          "output_type": "execute_result"
        }
      ],
      "source": [
        "True + False"
      ]
    },
    {
      "cell_type": "code",
      "execution_count": null,
      "metadata": {
        "id": "67SZfu6AKT1j"
      },
      "outputs": [],
      "source": [
        "def travel( bike = True , car = False ) : \n",
        "    plan_travel = bike or car \n",
        "    return bike , car , plan_travel"
      ]
    },
    {
      "cell_type": "code",
      "execution_count": null,
      "metadata": {
        "id": "SWQXhGiQKT1k",
        "outputId": "001b9ea8-6a83-420f-a086-533e3a71b854"
      },
      "outputs": [
        {
          "data": {
            "text/plain": [
              "(True, False, True)"
            ]
          },
          "execution_count": 115,
          "metadata": {},
          "output_type": "execute_result"
        }
      ],
      "source": [
        "travel()"
      ]
    },
    {
      "cell_type": "code",
      "execution_count": null,
      "metadata": {
        "id": "54mg6zRCKT1k",
        "outputId": "2505196d-aa01-4e52-f159-69ef7edaf2b7"
      },
      "outputs": [
        {
          "data": {
            "text/plain": [
              "(True, True, True)"
            ]
          },
          "execution_count": 117,
          "metadata": {},
          "output_type": "execute_result"
        }
      ],
      "source": [
        "travel(car  = True )"
      ]
    },
    {
      "cell_type": "code",
      "execution_count": null,
      "metadata": {
        "id": "9moKI6jrKT1k",
        "outputId": "f6989a6f-0801-48cc-eacd-a0f43f0ffb4e"
      },
      "outputs": [
        {
          "data": {
            "text/plain": [
              "(280, True, 280)"
            ]
          },
          "execution_count": 118,
          "metadata": {},
          "output_type": "execute_result"
        }
      ],
      "source": [
        "travel(_, True)"
      ]
    },
    {
      "cell_type": "code",
      "execution_count": null,
      "metadata": {
        "id": "Vn_z-BthKT1l",
        "outputId": "b2dcc801-11e8-4667-95fd-455638cee1aa"
      },
      "outputs": [
        {
          "data": {
            "text/plain": [
              "280"
            ]
          },
          "execution_count": 119,
          "metadata": {},
          "output_type": "execute_result"
        }
      ],
      "source": [
        "_"
      ]
    },
    {
      "cell_type": "code",
      "execution_count": null,
      "metadata": {
        "id": "dHDC-A38KT1l"
      },
      "outputs": [],
      "source": [
        "def test11(*args ):\n",
        "    return args "
      ]
    },
    {
      "cell_type": "code",
      "execution_count": null,
      "metadata": {
        "id": "IaZ7vIR5KT1l",
        "outputId": "8f8510ac-37cf-4f8c-d10d-0163549f45e7"
      },
      "outputs": [
        {
          "data": {
            "text/plain": [
              "('sudhanshu', 'kumar ', 34, [34, 4, 4, 5, 454, 54])"
            ]
          },
          "execution_count": 123,
          "metadata": {},
          "output_type": "execute_result"
        }
      ],
      "source": [
        "test11(\"sudhanshu\" , \"kumar \", 34,[34,4,4,5,454,54])"
      ]
    },
    {
      "cell_type": "code",
      "execution_count": null,
      "metadata": {
        "id": "ynGTvDndKT1m"
      },
      "outputs": [],
      "source": [
        "def test12(a , b , c ):\n",
        "    return a + b + c "
      ]
    },
    {
      "cell_type": "code",
      "execution_count": null,
      "metadata": {
        "id": "DE-4fwRxKT1m",
        "outputId": "041ea18b-dc7e-4c80-fa78-e5531f2dc75c"
      },
      "outputs": [
        {
          "data": {
            "text/plain": [
              "[1, 2, 3, 4, 4, 5, 6, 7, 4, 5, 6, 78]"
            ]
          },
          "execution_count": 126,
          "metadata": {},
          "output_type": "execute_result"
        }
      ],
      "source": [
        "test12([1,2,3,4] , [4,5,6,7] , [4,5,6,78])"
      ]
    },
    {
      "cell_type": "code",
      "execution_count": null,
      "metadata": {
        "id": "kGIl6bs4KT1m"
      },
      "outputs": [],
      "source": [
        "def test13(*args):\n",
        "    l = []\n",
        "    for i in args:\n",
        "        l = l + i\n",
        "    return l \n",
        "        "
      ]
    },
    {
      "cell_type": "code",
      "execution_count": null,
      "metadata": {
        "id": "a4KuJuzAKT1n",
        "outputId": "9d93bc33-676a-4813-bd71-2ed1063f1fe6"
      },
      "outputs": [
        {
          "data": {
            "text/plain": [
              "[3, 4, 5, 6, 3, 4, 5, 6, 7, 3, 4, 5, 6]"
            ]
          },
          "execution_count": 131,
          "metadata": {},
          "output_type": "execute_result"
        }
      ],
      "source": [
        "test13([3,4,5,6] , [3,4,5,6,7] , [3,4,5,6])"
      ]
    },
    {
      "cell_type": "code",
      "execution_count": null,
      "metadata": {
        "id": "m7vgYVMHKT1n",
        "outputId": "b6b1bfb1-16da-4cbd-f103-16b821a45f7a"
      },
      "outputs": [
        {
          "data": {
            "text/plain": [
              "[4, 5, 6, 6, 4, 5, 6, 7]"
            ]
          },
          "execution_count": 132,
          "metadata": {},
          "output_type": "execute_result"
        }
      ],
      "source": [
        "test13([4,5,6,6],[4,5,6,7])"
      ]
    },
    {
      "cell_type": "code",
      "execution_count": null,
      "metadata": {
        "id": "vXnh4H-uKT1n"
      },
      "outputs": [],
      "source": [
        "def test14(*args):\n",
        "    return [i for i in args]"
      ]
    },
    {
      "cell_type": "code",
      "execution_count": null,
      "metadata": {
        "id": "lJv9GHq0KT1n",
        "outputId": "61ff0a86-41b6-4b8a-8433-c43e4d57ac5b"
      },
      "outputs": [
        {
          "data": {
            "text/plain": [
              "[[4, 5, 6, 6], [4, 5, 6, 7]]"
            ]
          },
          "execution_count": 136,
          "metadata": {},
          "output_type": "execute_result"
        }
      ],
      "source": [
        "test14([4,5,6,6],[4,5,6,7])"
      ]
    },
    {
      "cell_type": "code",
      "execution_count": null,
      "metadata": {
        "id": "i7p4TN8iKT1n",
        "outputId": "b6654468-0ef3-4be7-b25d-cf9dd44fc55d"
      },
      "outputs": [
        {
          "ename": "TypeError",
          "evalue": "can only concatenate list (not \"str\") to list",
          "output_type": "error",
          "traceback": [
            "\u001b[1;31m---------------------------------------------------------------------------\u001b[0m",
            "\u001b[1;31mTypeError\u001b[0m                                 Traceback (most recent call last)",
            "\u001b[1;32m<ipython-input-138-a7757a0ef063>\u001b[0m in \u001b[0;36m<module>\u001b[1;34m\u001b[0m\n\u001b[1;32m----> 1\u001b[1;33m \u001b[0mtest13\u001b[0m\u001b[1;33m(\u001b[0m\u001b[1;34m\"fdsfdsf\"\u001b[0m \u001b[1;33m,\u001b[0m \u001b[1;36m234\u001b[0m\u001b[1;33m,\u001b[0m\u001b[1;33m[\u001b[0m\u001b[1;36m3\u001b[0m\u001b[1;33m,\u001b[0m\u001b[1;36m4\u001b[0m\u001b[1;33m,\u001b[0m\u001b[1;36m5\u001b[0m\u001b[1;33m,\u001b[0m\u001b[1;36m6\u001b[0m\u001b[1;33m,\u001b[0m\u001b[1;36m7\u001b[0m\u001b[1;33m,\u001b[0m\u001b[1;36m8\u001b[0m\u001b[1;33m]\u001b[0m \u001b[1;33m,\u001b[0m \u001b[1;33m[\u001b[0m\u001b[1;36m5\u001b[0m\u001b[1;33m,\u001b[0m\u001b[1;36m7\u001b[0m\u001b[1;33m,\u001b[0m\u001b[1;36m7\u001b[0m\u001b[1;33m,\u001b[0m\u001b[1;36m8\u001b[0m\u001b[1;33m,\u001b[0m\u001b[1;36m9\u001b[0m\u001b[1;33m]\u001b[0m\u001b[1;33m)\u001b[0m\u001b[1;33m\u001b[0m\u001b[1;33m\u001b[0m\u001b[0m\n\u001b[0m",
            "\u001b[1;32m<ipython-input-137-d3d701c2feef>\u001b[0m in \u001b[0;36mtest13\u001b[1;34m(*args)\u001b[0m\n\u001b[0;32m      2\u001b[0m     \u001b[0ml\u001b[0m \u001b[1;33m=\u001b[0m \u001b[1;33m[\u001b[0m\u001b[1;33m]\u001b[0m\u001b[1;33m\u001b[0m\u001b[1;33m\u001b[0m\u001b[0m\n\u001b[0;32m      3\u001b[0m     \u001b[1;32mfor\u001b[0m \u001b[0mi\u001b[0m \u001b[1;32min\u001b[0m \u001b[0margs\u001b[0m\u001b[1;33m:\u001b[0m\u001b[1;33m\u001b[0m\u001b[1;33m\u001b[0m\u001b[0m\n\u001b[1;32m----> 4\u001b[1;33m         \u001b[0ml\u001b[0m \u001b[1;33m=\u001b[0m \u001b[0ml\u001b[0m \u001b[1;33m+\u001b[0m \u001b[0mi\u001b[0m\u001b[1;33m\u001b[0m\u001b[1;33m\u001b[0m\u001b[0m\n\u001b[0m\u001b[0;32m      5\u001b[0m     \u001b[1;32mreturn\u001b[0m \u001b[0ml\u001b[0m\u001b[1;33m\u001b[0m\u001b[1;33m\u001b[0m\u001b[0m\n\u001b[0;32m      6\u001b[0m \u001b[1;33m\u001b[0m\u001b[0m\n",
            "\u001b[1;31mTypeError\u001b[0m: can only concatenate list (not \"str\") to list"
          ]
        }
      ],
      "source": [
        "test13(\"fdsfdsf\" , 234,[3,4,5,6,7,8] , [5,7,7,8,9])"
      ]
    },
    {
      "cell_type": "code",
      "execution_count": null,
      "metadata": {
        "id": "24zX4d4WKT1n"
      },
      "outputs": [],
      "source": [
        "def test15(*args):\n",
        "    l = []\n",
        "    for i in args:\n",
        "        if type(i) == list:\n",
        "            \n",
        "            l = l + i\n",
        "    return l "
      ]
    },
    {
      "cell_type": "code",
      "execution_count": null,
      "metadata": {
        "id": "TXZxTWrtKT1o",
        "outputId": "e58f6775-617a-4bb6-d970-621bd4958723"
      },
      "outputs": [
        {
          "data": {
            "text/plain": [
              "[3, 4, 5, 6, 7, 8, 5, 7, 7, 8, 9]"
            ]
          },
          "execution_count": 140,
          "metadata": {},
          "output_type": "execute_result"
        }
      ],
      "source": [
        "test15(\"fdsfdsf\" , 234,[3,4,5,6,7,8] , [5,7,7,8,9])"
      ]
    },
    {
      "cell_type": "code",
      "execution_count": null,
      "metadata": {
        "id": "gbfvv-VhKT1o"
      },
      "outputs": [],
      "source": [
        "def test16(**kwargs):\n",
        "    return kwargs"
      ]
    },
    {
      "cell_type": "code",
      "execution_count": null,
      "metadata": {
        "id": "c-RjCjALKT1o",
        "outputId": "a94faeb2-e674-4d7d-f38e-e1c1d6230bd8"
      },
      "outputs": [
        {
          "ename": "TypeError",
          "evalue": "test16() takes 0 positional arguments but 3 were given",
          "output_type": "error",
          "traceback": [
            "\u001b[1;31m---------------------------------------------------------------------------\u001b[0m",
            "\u001b[1;31mTypeError\u001b[0m                                 Traceback (most recent call last)",
            "\u001b[1;32m<ipython-input-142-9fdf3b93d92e>\u001b[0m in \u001b[0;36m<module>\u001b[1;34m\u001b[0m\n\u001b[1;32m----> 1\u001b[1;33m \u001b[0mtest16\u001b[0m\u001b[1;33m(\u001b[0m\u001b[1;36m4\u001b[0m\u001b[1;33m,\u001b[0m\u001b[1;36m56\u001b[0m\u001b[1;33m,\u001b[0m\u001b[1;36m56\u001b[0m\u001b[1;33m)\u001b[0m\u001b[1;33m\u001b[0m\u001b[1;33m\u001b[0m\u001b[0m\n\u001b[0m",
            "\u001b[1;31mTypeError\u001b[0m: test16() takes 0 positional arguments but 3 were given"
          ]
        }
      ],
      "source": [
        "test16(4,56,56)"
      ]
    },
    {
      "cell_type": "code",
      "execution_count": null,
      "metadata": {
        "id": "OQXr6_RxKT1o",
        "outputId": "f6c3aabe-bcb2-48e9-acbd-c7d6921536b7"
      },
      "outputs": [
        {
          "data": {
            "text/plain": [
              "{'a': 8, 'b': True, 'c': [4, 5, 6, 6, 'kumar'], 'd': 'sudh'}"
            ]
          },
          "execution_count": 145,
          "metadata": {},
          "output_type": "execute_result"
        }
      ],
      "source": [
        "test16(a = 8 , b = True , c = [4,5,6,6,\"kumar\"] , d = \"sudh\")"
      ]
    },
    {
      "cell_type": "code",
      "execution_count": null,
      "metadata": {
        "id": "_B1nBT37KT1o"
      },
      "outputs": [],
      "source": [
        "def test17(*args):\n",
        "    return args"
      ]
    },
    {
      "cell_type": "code",
      "execution_count": null,
      "metadata": {
        "id": "Fm0t5_5bKT1p",
        "outputId": "991f1055-8ef8-4f29-cf9b-4847f1dab53d"
      },
      "outputs": [
        {
          "data": {
            "text/plain": [
              "(4, 5, 6, 7, 'sudh', [4, 5, 6, 7, 8])"
            ]
          },
          "execution_count": 149,
          "metadata": {},
          "output_type": "execute_result"
        }
      ],
      "source": [
        "test17(4,5,6,7, \"sudh\" , [4,5,6,7,8])"
      ]
    },
    {
      "cell_type": "code",
      "execution_count": null,
      "metadata": {
        "id": "1i2GeqEMKT1p"
      },
      "outputs": [],
      "source": [
        "#1\n",
        "def fun1(*args):\n",
        "    a=[]\n",
        "    b=[]\n",
        "    c=[]\n",
        "    d=[]\n",
        "    e=[]\n",
        "    f=[]\n",
        "    g=[]\n",
        "    for i in args:\n",
        "        if type(i)==int:\n",
        "            a.append(i)\n",
        "        if type(i)==float:\n",
        "            b.append(i)\n",
        "        if type(i)==str:\n",
        "            c.append(i)\n",
        "        if type(i)==tuple:\n",
        "            d.append(i)\n",
        "        if type(i)==list:\n",
        "            e.append(i)\n",
        "        if type(i)==dict:\n",
        "            f.append(i)\n",
        "        if type(i)==bool:\n",
        "            g.append(i)\n",
        "    return a,b,c,d,e,f,g\n",
        "\n",
        "#2 \n",
        "def fun2(*args,**kwargs):\n",
        "    l=[i for i in args]\n",
        "    d=[i for i in kwargs]\n",
        "    return l,d\n"
      ]
    },
    {
      "cell_type": "code",
      "execution_count": null,
      "metadata": {
        "id": "NFlwa0eaKT1p"
      },
      "outputs": [],
      "source": [
        "#1\n",
        "def fun1(*args):\n",
        "    a=[]\n",
        "    b=[]\n",
        "    c=[]\n",
        "    d=[]\n",
        "    e=[]\n",
        "    f=[]\n",
        "    g=[]\n",
        "    for i in args:\n",
        "        if type(i)==int:\n",
        "            a.append(i)\n",
        "        if type(i)==float:\n",
        "            b.append(i)\n",
        "        if type(i)==str:\n",
        "            c.append(i)\n",
        "        if type(i)==tuple:\n",
        "            d.append(i)\n",
        "        if type(i)==list:\n",
        "            e.append(i)\n",
        "        if type(i)==dict:\n",
        "            f.append(i)\n",
        "        if type(i)==bool:\n",
        "            g.append(i)\n",
        "    return a,b,c,d,e,f,g"
      ]
    },
    {
      "cell_type": "code",
      "execution_count": null,
      "metadata": {
        "id": "4cuTwolhKT1p",
        "outputId": "c72fbf9e-2371-479a-97d9-9f05ecd327df"
      },
      "outputs": [
        {
          "data": {
            "text/plain": [
              "([3, 4, 5, 6, 6],\n",
              " [7.45],\n",
              " [],\n",
              " [],\n",
              " [[4, 5, 6, 7, 8, 9], [4, 5, 6, 7, 8, 90]],\n",
              " [],\n",
              " [True, False])"
            ]
          },
          "execution_count": 152,
          "metadata": {},
          "output_type": "execute_result"
        }
      ],
      "source": [
        "fun1(3,4,5,6,6,7.45,True ,False , [4,5,6,7,8,9] , [4,5,6,7,8,90] , 4+5j)"
      ]
    },
    {
      "cell_type": "code",
      "execution_count": null,
      "metadata": {
        "id": "TRyMbuwfKT1q"
      },
      "outputs": [],
      "source": [
        "def fun2(*args,**kwargs):\n",
        "    l=[i for i in args if type(i) == list ]\n",
        "    d=[i[1] for i in kwargs.items() if type(i[1]) == list ]\n",
        "    return l,d"
      ]
    },
    {
      "cell_type": "code",
      "execution_count": null,
      "metadata": {
        "id": "YPtxyrtbKT1q",
        "outputId": "2ca456fc-a8bb-4b3e-c18c-ff09f674d090"
      },
      "outputs": [
        {
          "data": {
            "text/plain": [
              "([[4, 5, 6, 7, 8], [5, 6, 7, 8, 9, 0]], [[4, 5, 6, 7]])"
            ]
          },
          "execution_count": 166,
          "metadata": {},
          "output_type": "execute_result"
        }
      ],
      "source": [
        "fun2([4,5,6,7,8] , [5,6,7,8,9,0] , 5,5,6,7, a = 5 , b = \"fsdfds\" , m = [4,5,6,7])"
      ]
    },
    {
      "cell_type": "code",
      "execution_count": null,
      "metadata": {
        "id": "D5E8TVL0KT1q"
      },
      "outputs": [],
      "source": [
        "def test18(**kwargs):\n",
        "    for i in kwargs.items():\n",
        "        if type(i[1])== list :\n",
        "            if \"sudh\" in i[1] :\n",
        "                print(\"i am able to find your name in input data \")\n",
        "                print(i[1])\n",
        "    return kwargs"
      ]
    },
    {
      "cell_type": "code",
      "execution_count": null,
      "metadata": {
        "id": "gsFARo76KT1q",
        "outputId": "1e30caf2-0ad9-4c13-91d1-013d54e34103"
      },
      "outputs": [
        {
          "name": "stdout",
          "output_type": "stream",
          "text": [
            "i am able to find your name in input data \n",
            "['sudh', 'kumar ', 5.67]\n"
          ]
        },
        {
          "data": {
            "text/plain": [
              "{'b': 6, 'c': [4, 5, 6, 7], 'd': ['sudh', 'kumar ', 5.67], 'n': (6+7j)}"
            ]
          },
          "execution_count": 197,
          "metadata": {},
          "output_type": "execute_result"
        }
      ],
      "source": [
        "test18(b =6 , c = [4,5,6,7] , d = [\"sudh\" , \"kumar \" , 5.67], n = 6 + 7j)"
      ]
    },
    {
      "cell_type": "code",
      "execution_count": null,
      "metadata": {
        "id": "7iszG5S0KT1q"
      },
      "outputs": [],
      "source": [
        "d ={'b': 6, 'c': [4, 5, 6, 7], 'd': ['sudh', 'kumar ', 5.67], 'n': (6+7j)}"
      ]
    },
    {
      "cell_type": "code",
      "execution_count": null,
      "metadata": {
        "id": "VR5lfYYDKT1q",
        "outputId": "3848cfe4-14ee-4169-8579-9043e5ef49dd"
      },
      "outputs": [
        {
          "data": {
            "text/plain": [
              "dict_values([6, [4, 5, 6, 7], ['sudh', 'kumar ', 5.67], (6+7j)])"
            ]
          },
          "execution_count": 201,
          "metadata": {},
          "output_type": "execute_result"
        }
      ],
      "source": [
        "d.values()"
      ]
    },
    {
      "cell_type": "code",
      "execution_count": null,
      "metadata": {
        "id": "LhwqSyDAKT1r",
        "outputId": "581e09d5-67b3-48af-8a7a-0a4efcb67db7"
      },
      "outputs": [
        {
          "data": {
            "text/plain": [
              "{int: [1, 2, 3],\n",
              " list: [[5, 6, 7]],\n",
              " str: ['hi', 'io'],\n",
              " complex: [(6+7j), (6+4j)]}"
            ]
          },
          "execution_count": 205,
          "metadata": {},
          "output_type": "execute_result"
        }
      ],
      "source": [
        "def func1(*args):\n",
        "  dt = {}\n",
        "  for i in args:\n",
        "    if type(i) in dt:\n",
        "      dt[type(i)].append(i)\n",
        "    else:\n",
        "      dt[type(i)] = [i]\n",
        "  return dt\n",
        "    \n",
        "func1(1,2,3,[5,6,7],'hi','io', 6+7j , 6+4j)\n"
      ]
    },
    {
      "cell_type": "code",
      "execution_count": null,
      "metadata": {
        "id": "clGI9-SIKT1r"
      },
      "outputs": [],
      "source": [
        ""
      ]
    }
  ],
  "metadata": {
    "kernelspec": {
      "display_name": "Python 3",
      "language": "python",
      "name": "python3"
    },
    "language_info": {
      "codemirror_mode": {
        "name": "ipython",
        "version": 3
      },
      "file_extension": ".py",
      "mimetype": "text/x-python",
      "name": "python",
      "nbconvert_exporter": "python",
      "pygments_lexer": "ipython3",
      "version": "3.8.3"
    },
    "colab": {
      "name": "01_Function in python.ipynb",
      "provenance": [],
      "include_colab_link": true
    }
  },
  "nbformat": 4,
  "nbformat_minor": 0
}